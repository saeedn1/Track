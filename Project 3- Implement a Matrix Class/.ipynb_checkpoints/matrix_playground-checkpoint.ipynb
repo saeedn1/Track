{
 "cells": [
  {
   "cell_type": "code",
   "execution_count": 1,
   "metadata": {},
   "outputs": [],
   "source": [
    "# Run this cell but don't modify it.\n",
    "\n",
    "%load_ext autoreload\n",
    "%autoreload 2\n",
    "from matrix import Matrix, zeroes, identity"
   ]
  },
  {
   "cell_type": "code",
   "execution_count": 2,
   "metadata": {},
   "outputs": [
    {
     "name": "stdout",
     "output_type": "stream",
     "text": [
      "0.0  0.0 \n",
      "0.0  0.0 \n",
      "\n",
      "m3 is\n",
      "<class 'matrix.Matrix'>\n",
      "m2 is\n",
      "2  5 \n",
      "6  1 \n",
      "\n",
      "we've also provided you with a function called zeros\n",
      "here's what happens when you call zeros(4,2)\n",
      "0.0  0.0 \n",
      "0.0  0.0 \n",
      "0.0  0.0 \n",
      "0.0  0.0 \n",
      "\n",
      "we've also provided you with a function called identity\n",
      "here's identity(3)\n",
      "<class 'matrix.Matrix'>\n",
      "but not everything works yet!\n",
      "for example, matrix addition...\n",
      "run the cell below to see what happens when we try...\n"
     ]
    }
   ],
   "source": [
    "# some functionality already exists... here's a demo\n",
    "\n",
    "m1 = Matrix([\n",
    "    [1, 2],\n",
    "    [3, 4]\n",
    "])\n",
    "\n",
    "m2 = Matrix([\n",
    "    [2, 5],\n",
    "    [6, 1]\n",
    "])\n",
    "m3 = zeroes(2,2)\n",
    "print(m3)\n",
    "print(\"m3 is\")\n",
    "print(type(m3))\n",
    "\n",
    "print(\"m2 is\")\n",
    "print(m2)\n",
    "\n",
    "print(\"we've also provided you with a function called zeros\")\n",
    "print(\"here's what happens when you call zeros(4,2)\")\n",
    "print(zeroes(4,2))\n",
    "\n",
    "print(\"we've also provided you with a function called identity\")\n",
    "print(\"here's identity(3)\")\n",
    "print(type(identity(3)))\n",
    "\n",
    "print(\"but not everything works yet!\")\n",
    "print(\"for example, matrix addition...\")\n",
    "print(\"run the cell below to see what happens when we try...\")"
   ]
  },
  {
   "cell_type": "code",
   "execution_count": 3,
   "metadata": {},
   "outputs": [
    {
     "name": "stdout",
     "output_type": "stream",
     "text": [
      "<class 'matrix.Matrix'>\n",
      "20.0\n"
     ]
    }
   ],
   "source": [
    "import numpy as np\n",
    "\n",
    "\n",
    "# m1 = Matrix([\n",
    "#     [1, 2],\n",
    "#     [3, 4]\n",
    "# ])\n",
    "\n",
    "# m2 = Matrix([\n",
    "#     [2, 5],\n",
    "#     [6, 1]\n",
    "# ])\n",
    "# I2 = Matrix([\n",
    "#         [1, 0],\n",
    "#         [0, 1]\n",
    "#         ])\n",
    "# I2_neg = Matrix([\n",
    "#         [-1, 0],\n",
    "#         [0, -1]\n",
    "#         ])\n",
    "\n",
    "m1 = Matrix([\n",
    "        [1,2,3],\n",
    "        [4,5,6]\n",
    "        ])\n",
    "m2 = Matrix([\n",
    "        [7,-2],\n",
    "        [-3,-5],\n",
    "        [4,1]\n",
    "        ])\n",
    "\n",
    "m3= 4*(identity(5))\n",
    "print(type(m3))\n",
    "print(m3.trace())"
   ]
  },
  {
   "cell_type": "code",
   "execution_count": 4,
   "metadata": {},
   "outputs": [
    {
     "name": "stdout",
     "output_type": "stream",
     "text": [
      "Congratulations! All tests pass. Your Matrix class is working as expected.\n"
     ]
    }
   ],
   "source": [
    "# Try running this code. You should get an assertion error. \n",
    "# You will continue to get assertion errors until all the \n",
    "# methods in matrix.py are correctly implemented.\n",
    "\n",
    "# You can open matrix.py by selecting File > Open... \n",
    "# and then selecting matrix.py\n",
    "\n",
    "import test"
   ]
  },
  {
   "cell_type": "code",
   "execution_count": 5,
   "metadata": {},
   "outputs": [],
   "source": [
    "# open matrix.py (File > Open...) and start\n",
    "# implementing matrix methods! \n",
    "\n",
    "# when your code passes all the tests you can submit by \n",
    "# pressing the SUBMIT button in the lower right corner \n",
    "# of this page.\n"
   ]
  }
 ],
 "metadata": {
  "kernelspec": {
   "display_name": "Python 3",
   "language": "python",
   "name": "python3"
  },
  "language_info": {
   "codemirror_mode": {
    "name": "ipython",
    "version": 3
   },
   "file_extension": ".py",
   "mimetype": "text/x-python",
   "name": "python",
   "nbconvert_exporter": "python",
   "pygments_lexer": "ipython3",
   "version": "3.6.3"
  }
 },
 "nbformat": 4,
 "nbformat_minor": 2
}
